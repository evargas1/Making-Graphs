{
 "cells": [
  {
   "cell_type": "code",
   "execution_count": 1,
   "id": "cognitive-mercy",
   "metadata": {},
   "outputs": [],
   "source": [
    "import pandas as pd"
   ]
  },
  {
   "cell_type": "code",
   "execution_count": 2,
   "id": "desirable-monte",
   "metadata": {},
   "outputs": [],
   "source": [
    "import matplotlib.pyplot as plt"
   ]
  },
  {
   "cell_type": "code",
   "execution_count": 3,
   "id": "incoming-riverside",
   "metadata": {},
   "outputs": [],
   "source": [
    "air_quality = pd.read_csv(\"air_quality_no2_long.csv\")"
   ]
  },
  {
   "cell_type": "code",
   "execution_count": 4,
   "id": "standing-scope",
   "metadata": {},
   "outputs": [],
   "source": [
    "air_quality = air_quality.rename(columns={\"date.utc\": \"datetime\"})"
   ]
  },
  {
   "cell_type": "code",
   "execution_count": 5,
   "id": "subtle-brooks",
   "metadata": {},
   "outputs": [
    {
     "data": {
      "text/html": [
       "<div>\n",
       "<style scoped>\n",
       "    .dataframe tbody tr th:only-of-type {\n",
       "        vertical-align: middle;\n",
       "    }\n",
       "\n",
       "    .dataframe tbody tr th {\n",
       "        vertical-align: top;\n",
       "    }\n",
       "\n",
       "    .dataframe thead th {\n",
       "        text-align: right;\n",
       "    }\n",
       "</style>\n",
       "<table border=\"1\" class=\"dataframe\">\n",
       "  <thead>\n",
       "    <tr style=\"text-align: right;\">\n",
       "      <th></th>\n",
       "      <th>city</th>\n",
       "      <th>country</th>\n",
       "      <th>datetime</th>\n",
       "      <th>location</th>\n",
       "      <th>parameter</th>\n",
       "      <th>value</th>\n",
       "      <th>unit</th>\n",
       "    </tr>\n",
       "  </thead>\n",
       "  <tbody>\n",
       "    <tr>\n",
       "      <th>0</th>\n",
       "      <td>Paris</td>\n",
       "      <td>FR</td>\n",
       "      <td>2019-06-21 00:00:00+00:00</td>\n",
       "      <td>FR04014</td>\n",
       "      <td>no2</td>\n",
       "      <td>20.0</td>\n",
       "      <td>µg/m³</td>\n",
       "    </tr>\n",
       "    <tr>\n",
       "      <th>1</th>\n",
       "      <td>Paris</td>\n",
       "      <td>FR</td>\n",
       "      <td>2019-06-20 23:00:00+00:00</td>\n",
       "      <td>FR04014</td>\n",
       "      <td>no2</td>\n",
       "      <td>21.8</td>\n",
       "      <td>µg/m³</td>\n",
       "    </tr>\n",
       "    <tr>\n",
       "      <th>2</th>\n",
       "      <td>Paris</td>\n",
       "      <td>FR</td>\n",
       "      <td>2019-06-20 22:00:00+00:00</td>\n",
       "      <td>FR04014</td>\n",
       "      <td>no2</td>\n",
       "      <td>26.5</td>\n",
       "      <td>µg/m³</td>\n",
       "    </tr>\n",
       "    <tr>\n",
       "      <th>3</th>\n",
       "      <td>Paris</td>\n",
       "      <td>FR</td>\n",
       "      <td>2019-06-20 21:00:00+00:00</td>\n",
       "      <td>FR04014</td>\n",
       "      <td>no2</td>\n",
       "      <td>24.9</td>\n",
       "      <td>µg/m³</td>\n",
       "    </tr>\n",
       "    <tr>\n",
       "      <th>4</th>\n",
       "      <td>Paris</td>\n",
       "      <td>FR</td>\n",
       "      <td>2019-06-20 20:00:00+00:00</td>\n",
       "      <td>FR04014</td>\n",
       "      <td>no2</td>\n",
       "      <td>21.4</td>\n",
       "      <td>µg/m³</td>\n",
       "    </tr>\n",
       "  </tbody>\n",
       "</table>\n",
       "</div>"
      ],
      "text/plain": [
       "    city country                   datetime location parameter  value   unit\n",
       "0  Paris      FR  2019-06-21 00:00:00+00:00  FR04014       no2   20.0  µg/m³\n",
       "1  Paris      FR  2019-06-20 23:00:00+00:00  FR04014       no2   21.8  µg/m³\n",
       "2  Paris      FR  2019-06-20 22:00:00+00:00  FR04014       no2   26.5  µg/m³\n",
       "3  Paris      FR  2019-06-20 21:00:00+00:00  FR04014       no2   24.9  µg/m³\n",
       "4  Paris      FR  2019-06-20 20:00:00+00:00  FR04014       no2   21.4  µg/m³"
      ]
     },
     "execution_count": 5,
     "metadata": {},
     "output_type": "execute_result"
    }
   ],
   "source": [
    "air_quality.head()"
   ]
  },
  {
   "cell_type": "code",
   "execution_count": 6,
   "id": "german-passage",
   "metadata": {},
   "outputs": [
    {
     "data": {
      "text/plain": [
       "array(['Paris', 'Antwerpen', 'London'], dtype=object)"
      ]
     },
     "execution_count": 6,
     "metadata": {},
     "output_type": "execute_result"
    }
   ],
   "source": [
    "air_quality.city.unique()"
   ]
  },
  {
   "cell_type": "code",
   "execution_count": 7,
   "id": "vietnamese-formation",
   "metadata": {},
   "outputs": [
    {
     "data": {
      "text/plain": [
       "0       2019-06-21 00:00:00+00:00\n",
       "1       2019-06-20 23:00:00+00:00\n",
       "2       2019-06-20 22:00:00+00:00\n",
       "3       2019-06-20 21:00:00+00:00\n",
       "4       2019-06-20 20:00:00+00:00\n",
       "                  ...            \n",
       "2063    2019-05-07 06:00:00+00:00\n",
       "2064    2019-05-07 04:00:00+00:00\n",
       "2065    2019-05-07 03:00:00+00:00\n",
       "2066    2019-05-07 02:00:00+00:00\n",
       "2067    2019-05-07 01:00:00+00:00\n",
       "Name: datetime, Length: 2068, dtype: object"
      ]
     },
     "execution_count": 7,
     "metadata": {},
     "output_type": "execute_result"
    }
   ],
   "source": [
    "air_quality[\"datetime\"]"
   ]
  },
  {
   "cell_type": "markdown",
   "id": "characteristic-capital",
   "metadata": {},
   "source": [
    "This proves that the datetime is saved as an oject or as plain text and not a UTC time."
   ]
  },
  {
   "cell_type": "code",
   "execution_count": 8,
   "id": "material-chuck",
   "metadata": {},
   "outputs": [],
   "source": [
    "air_quality[\"datetime\"] = pd.to_datetime(air_quality[\"datetime\"])"
   ]
  },
  {
   "cell_type": "code",
   "execution_count": 9,
   "id": "spatial-joint",
   "metadata": {},
   "outputs": [
    {
     "data": {
      "text/plain": [
       "0      2019-06-21 00:00:00+00:00\n",
       "1      2019-06-20 23:00:00+00:00\n",
       "2      2019-06-20 22:00:00+00:00\n",
       "3      2019-06-20 21:00:00+00:00\n",
       "4      2019-06-20 20:00:00+00:00\n",
       "                  ...           \n",
       "2063   2019-05-07 06:00:00+00:00\n",
       "2064   2019-05-07 04:00:00+00:00\n",
       "2065   2019-05-07 03:00:00+00:00\n",
       "2066   2019-05-07 02:00:00+00:00\n",
       "2067   2019-05-07 01:00:00+00:00\n",
       "Name: datetime, Length: 2068, dtype: datetime64[ns, UTC]"
      ]
     },
     "execution_count": 9,
     "metadata": {},
     "output_type": "execute_result"
    }
   ],
   "source": [
    "air_quality[\"datetime\"]"
   ]
  },
  {
   "cell_type": "markdown",
   "id": "fatty-wonder",
   "metadata": {},
   "source": [
    "Originally the values in datetime are character strings and do not provide any datetime operations."
   ]
  },
  {
   "cell_type": "markdown",
   "id": "broken-liberal",
   "metadata": {},
   "source": [
    "The to_datetime object is invaluable because it helps change text to a datetime object."
   ]
  },
  {
   "cell_type": "code",
   "execution_count": 10,
   "id": "liberal-prague",
   "metadata": {},
   "outputs": [
    {
     "data": {
      "text/plain": [
       "(Timestamp('2019-05-07 01:00:00+0000', tz='UTC'),\n",
       " Timestamp('2019-06-21 00:00:00+0000', tz='UTC'))"
      ]
     },
     "execution_count": 10,
     "metadata": {},
     "output_type": "execute_result"
    }
   ],
   "source": [
    "air_quality[\"datetime\"].min(), air_quality[\"datetime\"].max()"
   ]
  },
  {
   "cell_type": "code",
   "execution_count": 11,
   "id": "active-relief",
   "metadata": {},
   "outputs": [
    {
     "data": {
      "text/plain": [
       "Timedelta('44 days 23:00:00')"
      ]
     },
     "execution_count": 11,
     "metadata": {},
     "output_type": "execute_result"
    }
   ],
   "source": [
    "air_quality[\"datetime\"].max() - air_quality[\"datetime\"].min()"
   ]
  },
  {
   "cell_type": "code",
   "execution_count": 12,
   "id": "mobile-sequence",
   "metadata": {},
   "outputs": [],
   "source": [
    "air_quality[\"month\"] = air_quality[\"datetime\"].dt.month"
   ]
  },
  {
   "cell_type": "code",
   "execution_count": 13,
   "id": "spread-exclusive",
   "metadata": {},
   "outputs": [
    {
     "data": {
      "text/html": [
       "<div>\n",
       "<style scoped>\n",
       "    .dataframe tbody tr th:only-of-type {\n",
       "        vertical-align: middle;\n",
       "    }\n",
       "\n",
       "    .dataframe tbody tr th {\n",
       "        vertical-align: top;\n",
       "    }\n",
       "\n",
       "    .dataframe thead th {\n",
       "        text-align: right;\n",
       "    }\n",
       "</style>\n",
       "<table border=\"1\" class=\"dataframe\">\n",
       "  <thead>\n",
       "    <tr style=\"text-align: right;\">\n",
       "      <th></th>\n",
       "      <th>city</th>\n",
       "      <th>country</th>\n",
       "      <th>datetime</th>\n",
       "      <th>location</th>\n",
       "      <th>parameter</th>\n",
       "      <th>value</th>\n",
       "      <th>unit</th>\n",
       "      <th>month</th>\n",
       "    </tr>\n",
       "  </thead>\n",
       "  <tbody>\n",
       "    <tr>\n",
       "      <th>0</th>\n",
       "      <td>Paris</td>\n",
       "      <td>FR</td>\n",
       "      <td>2019-06-21 00:00:00+00:00</td>\n",
       "      <td>FR04014</td>\n",
       "      <td>no2</td>\n",
       "      <td>20.0</td>\n",
       "      <td>µg/m³</td>\n",
       "      <td>6</td>\n",
       "    </tr>\n",
       "    <tr>\n",
       "      <th>1</th>\n",
       "      <td>Paris</td>\n",
       "      <td>FR</td>\n",
       "      <td>2019-06-20 23:00:00+00:00</td>\n",
       "      <td>FR04014</td>\n",
       "      <td>no2</td>\n",
       "      <td>21.8</td>\n",
       "      <td>µg/m³</td>\n",
       "      <td>6</td>\n",
       "    </tr>\n",
       "    <tr>\n",
       "      <th>2</th>\n",
       "      <td>Paris</td>\n",
       "      <td>FR</td>\n",
       "      <td>2019-06-20 22:00:00+00:00</td>\n",
       "      <td>FR04014</td>\n",
       "      <td>no2</td>\n",
       "      <td>26.5</td>\n",
       "      <td>µg/m³</td>\n",
       "      <td>6</td>\n",
       "    </tr>\n",
       "    <tr>\n",
       "      <th>3</th>\n",
       "      <td>Paris</td>\n",
       "      <td>FR</td>\n",
       "      <td>2019-06-20 21:00:00+00:00</td>\n",
       "      <td>FR04014</td>\n",
       "      <td>no2</td>\n",
       "      <td>24.9</td>\n",
       "      <td>µg/m³</td>\n",
       "      <td>6</td>\n",
       "    </tr>\n",
       "    <tr>\n",
       "      <th>4</th>\n",
       "      <td>Paris</td>\n",
       "      <td>FR</td>\n",
       "      <td>2019-06-20 20:00:00+00:00</td>\n",
       "      <td>FR04014</td>\n",
       "      <td>no2</td>\n",
       "      <td>21.4</td>\n",
       "      <td>µg/m³</td>\n",
       "      <td>6</td>\n",
       "    </tr>\n",
       "  </tbody>\n",
       "</table>\n",
       "</div>"
      ],
      "text/plain": [
       "    city country                  datetime location parameter  value   unit  \\\n",
       "0  Paris      FR 2019-06-21 00:00:00+00:00  FR04014       no2   20.0  µg/m³   \n",
       "1  Paris      FR 2019-06-20 23:00:00+00:00  FR04014       no2   21.8  µg/m³   \n",
       "2  Paris      FR 2019-06-20 22:00:00+00:00  FR04014       no2   26.5  µg/m³   \n",
       "3  Paris      FR 2019-06-20 21:00:00+00:00  FR04014       no2   24.9  µg/m³   \n",
       "4  Paris      FR 2019-06-20 20:00:00+00:00  FR04014       no2   21.4  µg/m³   \n",
       "\n",
       "   month  \n",
       "0      6  \n",
       "1      6  \n",
       "2      6  \n",
       "3      6  \n",
       "4      6  "
      ]
     },
     "execution_count": 13,
     "metadata": {},
     "output_type": "execute_result"
    }
   ],
   "source": [
    "air_quality.head()"
   ]
  },
  {
   "cell_type": "markdown",
   "id": "frequent-firmware",
   "metadata": {},
   "source": [
    "labled in order according to the corresponding month. thanks to the dt.month accessor in this case june as it follows. "
   ]
  },
  {
   "cell_type": "code",
   "execution_count": 16,
   "id": "underlying-rider",
   "metadata": {},
   "outputs": [
    {
     "data": {
      "text/plain": [
       "datetime  location          \n",
       "0         BETR801               27.875000\n",
       "          FR04014               24.856250\n",
       "          London Westminster    23.969697\n",
       "1         BETR801               22.214286\n",
       "          FR04014               30.999359\n",
       "          London Westminster    24.885714\n",
       "2         BETR801               21.125000\n",
       "          FR04014               29.165753\n",
       "          London Westminster    23.460432\n",
       "3         BETR801               27.500000\n",
       "          FR04014               28.600690\n",
       "          London Westminster    24.780142\n",
       "4         BETR801               28.400000\n",
       "          FR04014               31.617986\n",
       "          London Westminster    26.446809\n",
       "5         BETR801               33.500000\n",
       "          FR04014               25.266154\n",
       "          London Westminster    24.977612\n",
       "6         BETR801               21.896552\n",
       "          FR04014               23.274306\n",
       "          London Westminster    24.859155\n",
       "Name: value, dtype: float64"
      ]
     },
     "execution_count": 16,
     "metadata": {},
     "output_type": "execute_result"
    }
   ],
   "source": [
    "air_quality.groupby([air_quality[\"datetime\"].dt.weekday, \"location\"]\n",
    ")[\"value\"].mean()"
   ]
  },
  {
   "cell_type": "markdown",
   "id": "normal-interference",
   "metadata": {},
   "source": [
    "Star think back to the split apply and combine pattern provided by groupby from tutorial on stats cal."
   ]
  },
  {
   "cell_type": "markdown",
   "id": "juvenile-census",
   "metadata": {},
   "source": [
    "Monday = 0 Sunday = 6"
   ]
  },
  {
   "cell_type": "code",
   "execution_count": 17,
   "id": "seeing-plenty",
   "metadata": {},
   "outputs": [
    {
     "data": {
      "image/png": "[encoded data removed]",
      "text/plain": [
       "<Figure size 864x288 with 1 Axes>"
      ]
     },
     "metadata": {
      "needs_background": "light"
     },
     "output_type": "display_data"
    }
   ],
   "source": [
    "fig, axs = plt.subplots(figsize=(12, 4))"
   ]
  },
  {
   "cell_type": "code",
   "execution_count": 18,
   "id": "explicit-serum",
   "metadata": {},
   "outputs": [
    {
     "data": {
      "text/plain": [
       "<AxesSubplot:xlabel='datetime'>"
      ]
     },
     "execution_count": 18,
     "metadata": {},
     "output_type": "execute_result"
    }
   ],
   "source": [
    "air_quality.groupby(air_quality[\"datetime\"].dt.hour)[\"value\"].mean().plot(kind='bar', rot=0, ax=axs)"
   ]
  },
  {
   "cell_type": "code",
   "execution_count": 19,
   "id": "turkish-reasoning",
   "metadata": {},
   "outputs": [
    {
     "data": {
      "image/png": "[encoded data removed]",
      "text/plain": [
       "<Figure size 432x288 with 1 Axes>"
      ]
     },
     "metadata": {
      "needs_background": "light"
     },
     "output_type": "display_data"
    }
   ],
   "source": [
    "plt.xlabel(\"hour of the day\");"
   ]
  },
  {
   "cell_type": "code",
   "execution_count": 20,
   "id": "institutional-syntax",
   "metadata": {},
   "outputs": [
    {
     "data": {
      "image/png": "[encoded data removed]",
      "text/plain": [
       "<Figure size 432x288 with 1 Axes>"
      ]
     },
     "metadata": {
      "needs_background": "light"
     },
     "output_type": "display_data"
    }
   ],
   "source": [
    "plt.ylabel(\"$NO_2 (µg/m^3)$\");\n"
   ]
  },
  {
   "cell_type": "code",
   "execution_count": 21,
   "id": "european-taxation",
   "metadata": {},
   "outputs": [
    {
     "ename": "NameError",
     "evalue": "name 'no_2' is not defined",
     "output_type": "error",
     "traceback": [
      "\u001b[0;31m---------------------------------------------------------------------------\u001b[0m",
      "\u001b[0;31mNameError\u001b[0m                                 Traceback (most recent call last)",
      "\u001b[0;32m/var/folders/c_/q5qf2bg90x5_bnhjgp_kd_q40000gn/T/ipykernel_1046/768859905.py\u001b[0m in \u001b[0;36m<module>\u001b[0;34m\u001b[0m\n\u001b[0;32m----> 1\u001b[0;31m \u001b[0mno_2\u001b[0m\u001b[0;34m[\u001b[0m\u001b[0;34m\"2019-05-20\"\u001b[0m\u001b[0;34m:\u001b[0m\u001b[0;34m\"2019-05-21\"\u001b[0m\u001b[0;34m]\u001b[0m\u001b[0;34m.\u001b[0m\u001b[0mplot\u001b[0m\u001b[0;34m(\u001b[0m\u001b[0;34m)\u001b[0m\u001b[0;34m;\u001b[0m\u001b[0;34m\u001b[0m\u001b[0;34m\u001b[0m\u001b[0m\n\u001b[0m",
      "\u001b[0;31mNameError\u001b[0m: name 'no_2' is not defined"
     ]
    }
   ],
   "source": [
    "no_2[\"2019-05-20\":\"2019-05-21\"].plot();\n"
   ]
  },
  {
   "cell_type": "code",
   "execution_count": null,
   "id": "sustained-husband",
   "metadata": {},
   "outputs": [],
   "source": []
  }
 ],
 "metadata": {
  "kernelspec": {
   "display_name": "Python 3",
   "language": "python",
   "name": "python3"
  },
  "language_info": {
   "codemirror_mode": {
    "name": "ipython",
    "version": 3
   },
   "file_extension": ".py",
   "mimetype": "text/x-python",
   "name": "python",
   "nbconvert_exporter": "python",
   "pygments_lexer": "ipython3",
   "version": "3.9.1"
  }
 },
 "nbformat": 4,
 "nbformat_minor": 5
}
